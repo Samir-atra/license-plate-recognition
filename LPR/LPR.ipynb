{
  "cells": [
    {
      "cell_type": "markdown",
      "source": [
        "1- Detect and crop license plates in car images.\n",
        "\n",
        "https://www.kaggle.com/datasets/andrewmvd/car-plate-detection?select=annotations\n",
        "\n",
        "\n",
        "2- detect and crop characters from license plates images.\n",
        "\n",
        "3- classify characters and print text output."
      ],
      "metadata": {
        "id": "oQ5MYdOoM3UP"
      }
    },
    {
      "cell_type": "code",
      "execution_count": 11,
      "metadata": {
        "id": "pdn42kFymQoT",
        "outputId": "cff5de01-7fbe-4834-e1a5-800550e3f5ec",
        "colab": {
          "base_uri": "https://localhost:8080/"
        }
      },
      "outputs": [
        {
          "output_type": "stream",
          "name": "stdout",
          "text": [
            "Drive already mounted at /content/drive; to attempt to forcibly remount, call drive.mount(\"/content/drive\", force_remount=True).\n"
          ]
        }
      ],
      "source": [
        "# Imports\n",
        "\n",
        "# !pip install tensorflow==2.4.0\n",
        "# !pip install tensorflow-gpu==2.4.0\n",
        "# !pip install keras==2.4.3 numpy==1.19.3 pillow==7.0.0 scipy==1.4.1 h5py==2.10.0 matplotlib==3.3.2 opencv-python keras-resnet==0.2.0\n",
        "# !pip install imageai --upgrade\n",
        "import tensorflow as tf\n",
        "import tensorflow_datasets as tfds\n",
        "import numpy as np\n",
        "import os\n",
        "import PIL.Image\n",
        "from PIL import ImageOps\n",
        "import PIL\n",
        "import pathlib\n",
        "import matplotlib.pyplot as plt\n",
        "import datetime\n",
        "import tensorboard\n",
        "import IPython\n",
        "import sklearn\n",
        "import cv2\n",
        "import subprocess\n",
        "import sys\n",
        "from imageai.Classification import ImageClassification\n",
        "from imageai.Detection.Custom import DetectionModelTrainer\n",
        "from imageai.Detection.Custom import CustomObjectDetection\n",
        "from google.colab import drive\n",
        "drive.mount('/content/drive')"
      ]
    },
    {
      "cell_type": "code",
      "source": [
        "#Trainer\n",
        "\n",
        "trainer = DetectionModelTrainer()\n",
        "trainer.setModelTypeAsYOLOv3()\n",
        "trainer.setDataDirectory(data_directory=\"/content/drive/MyDrive/imageai/LPDS\")\n",
        "trainer.setTrainConfig(object_names_array=[\"licence\"], batch_size=8, num_experiments=30, train_from_pretrained_model=\"/content/drive/MyDrive/imageai/LPDS/models/detection_model-ex-018--loss-0014.416.h5\")\n",
        "trainer.trainModel()"
      ],
      "metadata": {
        "id": "XJKc9CNPWaTU",
        "colab": {
          "base_uri": "https://localhost:8080/"
        },
        "outputId": "d64c4e8c-2ec7-4b26-90e0-205aef1e17e4"
      },
      "execution_count": null,
      "outputs": [
        {
          "output_type": "stream",
          "name": "stdout",
          "text": [
            "Generating anchor boxes for training images and annotation...\n",
            "Average IOU for 9 anchors: 0.74\n",
            "Anchor Boxes generated.\n",
            "Detection configuration saved in  /content/drive/MyDrive/imageai/LPDS/json/detection_config.json\n",
            "Evaluating over 101 samples taken from /content/drive/MyDrive/imageai/LPDS/validation\n",
            "Training over 332 samples  given at /content/drive/MyDrive/imageai/LPDS/train\n",
            "Training on: \t['licence']\n",
            "Training with Batch Size:  8\n",
            "Number of Training Samples:  332\n",
            "Number of Validation Samples:  101\n",
            "Number of Experiments:  30\n",
            "Training with transfer learning from pretrained Model\n",
            "WARNING:tensorflow:`period` argument is deprecated. Please use `save_freq` to specify the frequency in number of batches seen.\n",
            "WARNING:tensorflow:`epsilon` argument is deprecated and will be removed, use `min_delta` instead.\n"
          ]
        },
        {
          "output_type": "stream",
          "name": "stderr",
          "text": [
            "/usr/local/lib/python3.7/dist-packages/tensorflow/python/keras/engine/training.py:1844: UserWarning: `Model.fit_generator` is deprecated and will be removed in a future version. Please use `Model.fit`, which supports generators.\n",
            "  warnings.warn('`Model.fit_generator` is deprecated and '\n"
          ]
        },
        {
          "output_type": "stream",
          "name": "stdout",
          "text": [
            "WARNING:tensorflow:Model failed to serialize as JSON. Ignoring... Layer YoloLayer has arguments in `__init__` and therefore must override `get_config`.\n"
          ]
        },
        {
          "output_type": "stream",
          "name": "stderr",
          "text": [
            "/usr/local/lib/python3.7/dist-packages/tensorflow/python/data/ops/dataset_ops.py:3504: UserWarning: Even though the tf.config.experimental_run_functions_eagerly option is set, this option does not apply to tf.data functions. tf.data functions are still traced and executed as graphs.\n",
            "  \"Even though the tf.config.experimental_run_functions_eagerly \"\n"
          ]
        },
        {
          "output_type": "stream",
          "name": "stdout",
          "text": [
            "Epoch 1/30\n",
            "215/336 [==================>...........] - ETA: 1:33 - loss: 39.1091 - yolo_layer_loss: 4.6209 - yolo_layer_1_loss: 11.4492 - yolo_layer_2_loss: 11.5124"
          ]
        }
      ]
    },
    {
      "cell_type": "code",
      "source": [
        "#Evaluate\n",
        "\n",
        "trainer = DetectionModelTrainer()\n",
        "trainer.setModelTypeAsYOLOv3()\n",
        "trainer.setDataDirectory(data_directory=\"/content/drive/MyDrive/imageai/LPDS\")\n",
        "metrics = trainer.evaluateModel(model_path=\"/content/drive/MyDrive/imageai/LPDS/models\", json_path=\"/content/drive/MyDrive/imageai/LPDS/json/detection_config.json\", iou_threshold=0.5, object_threshold=0.3, nms_threshold=0.5)\n",
        "print(metrics)"
      ],
      "metadata": {
        "id": "IKrnSm0_jTCm"
      },
      "execution_count": null,
      "outputs": []
    },
    {
      "cell_type": "code",
      "source": [
        "#Detector\n",
        "\n",
        "detector = CustomObjectDetection()\n",
        "detector.setModelTypeAsYOLOv3()\n",
        "detector.setModelPath(\"/content/drive/MyDrive/imageai/LPDS/models/detection_model-ex-018--loss-0014.416.h5\")\n",
        "detector.setJsonPath(\"/content/drive/MyDrive/imageai/LPDS/json/detection_config.json\")\n",
        "detector.loadModel()\n",
        "detections = detector.detectObjectsFromImage(input_image=\"/content/drive/MyDrive/imageai/LPDS/train/images/Cars104.png\", output_image_path=\"/content/drive/MyDrive/imageai/LP-detected.jpg\",  extract_detected_objects=True)\n",
        "#for detection in detections:\n",
        " #   print(detection[\"name\"], \" : \", detection[\"percentage_probability\"], \" : \", detection[\"box_points\"])"
      ],
      "metadata": {
        "id": "oyfEsUp5Xunc",
        "colab": {
          "base_uri": "https://localhost:8080/"
        },
        "outputId": "ba9f81e5-9755-4831-eb0d-aba2e839149f"
      },
      "execution_count": 10,
      "outputs": [
        {
          "output_type": "stream",
          "name": "stderr",
          "text": [
            "/usr/local/lib/python3.7/dist-packages/tensorflow/python/data/ops/dataset_ops.py:3504: UserWarning: Even though the tf.config.experimental_run_functions_eagerly option is set, this option does not apply to tf.data functions. tf.data functions are still traced and executed as graphs.\n",
            "  \"Even though the tf.config.experimental_run_functions_eagerly \"\n"
          ]
        }
      ]
    },
    {
      "cell_type": "code",
      "source": [
        "prediction = ImageClassification()\n",
        "\n",
        "base_model = tf.keras.applications.inception_v3.InceptionV3(\n",
        "    input_shape = (299, 299, 3),\n",
        "    include_top = True, \n",
        "    weights = \"imagenet\"                  \n",
        ")\n",
        "\n",
        "saving_path = pathlib.Path('/content/drive/MyDrive/imageai/SavedBaseModel.h5')\n",
        "\n",
        "base_model.save(saving_path)\n",
        "\n",
        "model_path = pathlib.Path('/content/drive/MyDrive/imageai/SavedBaseModel.h5')\n",
        "\n",
        "prediction.setModelTypeAsInceptionV3()\n",
        "\n",
        "prediction.setModelPath(\"/content/drive/MyDrive/imageai/SavedBaseModel.h5\")\n",
        "\n",
        "prediction.loadModel()\n",
        "\n",
        "predictions, probabilities = prediction.classifyImage(\"/content/drive/MyDrive/License_Plate_Recognition/LicPlateImages/10.png\", result_count=10)\n",
        "\n",
        "for eachPrediction, eachProbability in zip(predictions, probabilities):\n",
        "    print(eachPrediction , \" : \" , eachProbability)\n"
      ],
      "metadata": {
        "id": "OP4sm6UXmbe9"
      },
      "execution_count": null,
      "outputs": []
    }
  ],
  "metadata": {
    "language_info": {
      "name": "python"
    },
    "orig_nbformat": 4,
    "colab": {
      "name": "LPR.ipynb",
      "provenance": []
    },
    "kernelspec": {
      "name": "python3",
      "display_name": "Python 3"
    },
    "gpuClass": "standard",
    "accelerator": "GPU"
  },
  "nbformat": 4,
  "nbformat_minor": 0
}
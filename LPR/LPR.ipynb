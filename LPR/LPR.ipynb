{
  "cells": [
    {
      "cell_type": "markdown",
      "source": [
        "1- Detect and crop license plates in car images.\n",
        "\n",
        "https://www.kaggle.com/datasets/andrewmvd/car-plate-detection?select=annotations\n",
        "\n",
        "\n",
        "2- detect and crop characters from license plates images.\n",
        "\n",
        "3- classify characters and print text output."
      ],
      "metadata": {
        "id": "oQ5MYdOoM3UP"
      }
    },
    {
      "cell_type": "code",
      "execution_count": 1,
      "metadata": {
        "id": "pdn42kFymQoT",
        "colab": {
          "base_uri": "https://localhost:8080/"
        },
        "outputId": "c3492c04-0092-453a-e316-c7abced2385f"
      },
      "outputs": [
        {
          "output_type": "stream",
          "name": "stdout",
          "text": [
            "Drive already mounted at /content/drive; to attempt to forcibly remount, call drive.mount(\"/content/drive\", force_remount=True).\n"
          ]
        }
      ],
      "source": [
        "# Imports\n",
        "\n",
        "# !pip install tensorflow==2.4.0\n",
        "# !pip install tensorflow-gpu==2.4.0\n",
        "# !pip install keras==2.4.3 numpy==1.19.3 pillow==7.0.0 scipy==1.4.1 h5py==2.10.0 matplotlib==3.3.2 opencv-python keras-resnet==0.2.0\n",
        "# !pip install imageai --upgrade\n",
        "import tensorflow as tf\n",
        "import tensorflow_datasets as tfds\n",
        "import numpy as np\n",
        "import os\n",
        "import PIL.Image\n",
        "from PIL import ImageOps\n",
        "import PIL\n",
        "import pathlib\n",
        "import matplotlib.pyplot as plt\n",
        "import datetime\n",
        "import tensorboard\n",
        "import IPython\n",
        "import sklearn\n",
        "import cv2\n",
        "import subprocess\n",
        "import sys\n",
        "# from imageai.Classification import ImageClassification\n",
        "# from imageai.Detection.Custom import DetectionModelTrainer\n",
        "# from imageai.Detection.Custom import CustomObjectDetection\n",
        "from google.colab import drive\n",
        "drive.mount('/content/drive')"
      ]
    },
    {
      "cell_type": "code",
      "source": [
        "#Trainer\n",
        "\n",
        "# trainer = DetectionModelTrainer()\n",
        "# trainer.setModelTypeAsYOLOv3()\n",
        "# trainer.setDataDirectory(data_directory=\"/content/drive/MyDrive/imageai/LPDS\")\n",
        "# trainer.setTrainConfig(object_names_array=[\"licence\"], batch_size=8, num_experiments=30, train_from_pretrained_model=\"/content/drive/MyDrive/imageai/LPDS/models/detection_model-ex-018--loss-0014.416.h5\")\n",
        "# trainer.trainModel()"
      ],
      "metadata": {
        "id": "XJKc9CNPWaTU"
      },
      "execution_count": 2,
      "outputs": []
    },
    {
      "cell_type": "code",
      "source": [
        "#Evaluate\n",
        "\n",
        "# trainer = DetectionModelTrainer()\n",
        "# trainer.setModelTypeAsYOLOv3()\n",
        "# trainer.setDataDirectory(data_directory=\"/content/drive/MyDrive/imageai/LPDS\")\n",
        "# metrics = trainer.evaluateModel(model_path=\"/content/drive/MyDrive/imageai/LPDS/models\", json_path=\"/content/drive/MyDrive/imageai/LPDS/json/detection_config.json\", iou_threshold=0.5, object_threshold=0.3, nms_threshold=0.5)\n",
        "# print(metrics)"
      ],
      "metadata": {
        "id": "IKrnSm0_jTCm"
      },
      "execution_count": 3,
      "outputs": []
    },
    {
      "cell_type": "code",
      "source": [
        "#Detector\n",
        "\n",
        "# detector = CustomObjectDetection()\n",
        "# detector.setModelTypeAsYOLOv3()\n",
        "# detector.setModelPath(\"/content/drive/MyDrive/imageai/LPDS/models/detection_model-ex-029--loss-0014.191.h5\")\n",
        "# detector.setJsonPath(\"/content/drive/MyDrive/imageai/LPDS/json/detection_config.json\")\n",
        "# detector.loadModel()\n",
        "# detections = detector.detectObjectsFromImage(input_image=\"/content/drive/MyDrive/imageai/LPDS/train/images/Cars100.png\", output_image_path=\"/content/drive/MyDrive/imageai/LP-detected.jpg\",  extract_detected_objects=True)\n",
        "# #for detection in detections:\n",
        "#  #   print(detection[\"name\"], \" : \", detection[\"percentage_probability\"], \" : \", detection[\"box_points\"])"
      ],
      "metadata": {
        "id": "oyfEsUp5Xunc"
      },
      "execution_count": 4,
      "outputs": []
    },
    {
      "cell_type": "code",
      "source": [
        "# prediction = ImageClassification()\n",
        "\n",
        "# base_model = tf.keras.applications.inception_v3.InceptionV3(\n",
        "#     input_shape = (299, 299, 3),\n",
        "#     include_top = True, \n",
        "#     weights = \"imagenet\"                  \n",
        "# )\n",
        "\n",
        "# saving_path = pathlib.Path('/content/drive/MyDrive/imageai/SavedBaseModel.h5')\n",
        "\n",
        "# base_model.save(saving_path)\n",
        "\n",
        "# model_path = pathlib.Path('/content/drive/MyDrive/imageai/SavedBaseModel.h5')\n",
        "\n",
        "# prediction.setModelTypeAsInceptionV3()\n",
        "\n",
        "# prediction.setModelPath(\"/content/drive/MyDrive/imageai/SavedBaseModel.h5\")\n",
        "\n",
        "# prediction.loadModel()\n",
        "\n",
        "# predictions, probabilities = prediction.classifyImage(\"/content/drive/MyDrive/License_Plate_Recognition/LicPlateImages/10.png\", result_count=10)\n",
        "\n",
        "# for eachPrediction, eachProbability in zip(predictions, probabilities):\n",
        "#     print(eachPrediction , \" : \" , eachProbability)\n"
      ],
      "metadata": {
        "id": "OP4sm6UXmbe9"
      },
      "execution_count": 5,
      "outputs": []
    },
    {
      "cell_type": "code",
      "source": [
        "# batch_size = 64\n",
        "# # Each MNIST image batch is a tensor of shape (batch_size, 28, 28).\n",
        "# # Each input sequence will be of size (28, 28) (height is treated like time).\n",
        "# input_dim = 28\n",
        "\n",
        "# units = 64\n",
        "# output_size = 5  # labels are from 0 to 9\n",
        "\n",
        "# # Build the RNN model\n",
        "# def build_model(allow_cudnn_kernel=True):\n",
        "#     # CuDNN is only available at the layer level, and not at the cell level.\n",
        "#     # This means `LSTM(units)` will use the CuDNN kernel,\n",
        "#     # while RNN(LSTMCell(units)) will run on non-CuDNN kernel.\n",
        "#     if allow_cudnn_kernel:\n",
        "#         # The LSTM layer with default options uses CuDNN.\n",
        "#         lstm_layer = keras.layers.LSTM(units, return_state=True, input_shape=(None, input_dim))\n",
        "#         # lstm_layer = keras.layers.GRU(units, input_shape=(None, input_dim))\n",
        "#     else:\n",
        "#         # Wrapping a LSTMCell in a RNN layer will not use CuDNN.\n",
        "#         lstm_layer = keras.layers.RNN(\n",
        "#             keras.layers.LSTMCell(units), input_shape=(None, input_dim)\n",
        "#         )\n",
        "#     model = keras.models.Sequential(\n",
        "#         [\n",
        "#            # keras.layers.Conv2D(16, 3, activation='ELU', kernel_regularizer=tf.keras.regularizers.l2(0.001)),    \n",
        "#            # keras.layers.Rescaling(scale=1/255),\n",
        "#             lstm_layer,\n",
        "#             keras.layers.BatchNormalization(),\n",
        "#             keras.layers.Dense(output_size),\n",
        "#         ]\n",
        "#     )\n",
        "#     return model\n"
      ],
      "metadata": {
        "id": "NnQNVF8p5zzU"
      },
      "execution_count": 6,
      "outputs": []
    },
    {
      "cell_type": "code",
      "source": [
        "batch_size = 64\n",
        "input_dim = 28\n",
        "units = 64\n",
        "output_size = 5\n",
        "\n",
        "data_path = pathlib.Path('/content/drive/MyDrive/RNNTest/dataset_characters_blackbackground')\n",
        "sample_path = pathlib.Path('/content/drive/MyDrive/imageai/LPDS/LP-detected-objects')\n",
        "\n",
        "dataset_path = tf.keras.utils.image_dataset_from_directory(        # Training dataset\n",
        "    data_path,\n",
        "    labels= 'inferred',\n",
        "    validation_split=0.2,\n",
        "    subset='training',\n",
        "    seed= 1,\n",
        "    batch_size=batch_size,\n",
        "    image_size=(input_dim,input_dim),\n",
        "    color_mode=\"grayscale\",\n",
        "    shuffle=True)\n",
        "\n",
        "\n",
        "dataset_path_val = tf.keras.utils.image_dataset_from_directory(      #Validation dataset\n",
        "    data_path,\n",
        "    labels= 'inferred',\n",
        "    validation_split=0.2,\n",
        "    subset='validation',\n",
        "    seed= 2,\n",
        "    batch_size=batch_size,\n",
        "    image_size=(input_dim, input_dim),\n",
        "    color_mode=\"grayscale\",\n",
        "    shuffle=True)\n",
        "\n",
        "sample = tf.keras.utils.image_dataset_from_directory(\n",
        "    sample_path,\n",
        "    labels= 'inferred',\n",
        "    batch_size=1,\n",
        "    image_size=(200,200),\n",
        "    color_mode=\"grayscale\"\n",
        ")"
      ],
      "metadata": {
        "id": "3p_tINDY50SJ",
        "colab": {
          "base_uri": "https://localhost:8080/"
        },
        "outputId": "4f32cccf-efd9-4db4-845a-3510e2ccd6a2"
      },
      "execution_count": 7,
      "outputs": [
        {
          "output_type": "stream",
          "name": "stdout",
          "text": [
            "Found 5374 files belonging to 5 classes.\n",
            "Using 4300 files for training.\n",
            "Found 5374 files belonging to 5 classes.\n",
            "Using 1074 files for validation.\n",
            "Found 3 files belonging to 2 classes.\n"
          ]
        }
      ]
    },
    {
      "cell_type": "code",
      "source": [
        "AUTOTUNE=tf.data.AUTOTUNE\n",
        "dataset_path = dataset_path.cache().prefetch(buffer_size=AUTOTUNE)\n",
        "# dataset_path_val = dataset_path_val.cache().prefetch(buffer_size=AUTOTUNE)"
      ],
      "metadata": {
        "id": "mMSbdSWg50q8"
      },
      "execution_count": 8,
      "outputs": []
    },
    {
      "cell_type": "code",
      "source": [
        "\n",
        "\n",
        "lstm_layer = tf.keras.layers.LSTM(units, input_shape=(None, input_dim), dropout=0.2)\n",
        "\n",
        "inputs = tf.keras.Input(shape=(None, input_dim))\n",
        "\n",
        "x = lstm_layer(inputs)\n",
        "#existing_state = lstm_layer.states\n",
        "#n = tf.keras.layers.LSTM(units, input_shape=(None, input_dim), dropout=0.2, return_sequences=True)\n",
        "y = tf.keras.layers.BatchNormalization()(x)\n",
        "z = tf.keras.layers.Dense(output_size)(y)\n",
        "\n",
        "model = tf.keras.Model(inputs, z)"
      ],
      "metadata": {
        "id": "d-12YQuAqxnS"
      },
      "execution_count": 9,
      "outputs": []
    },
    {
      "cell_type": "code",
      "source": [
        "# # model_lstm = tf.keras.Sequential()\n",
        "# # model_lstm.add(tf.keras.layers.LSTM(units=125, activation=\"tanh\", return_sequences=True))\n",
        "# # model_lstm.add(tf.keras.layers.Dense(units=1))\n",
        "# model = keras.Sequential()\n",
        "# model.add(layers.Embedding(input_dim=1000, output_dim=64))\n",
        "\n",
        "# # The output of GRU will be a 3D tensor of shape (batch_size, timesteps, 256)\n",
        "# model.add(layers.GRU(256, return_sequences=True))\n",
        "\n",
        "# # The output of SimpleRNN will be a 2D tensor of shape (batch_size, 128)\n",
        "# model.add(layers.SimpleRNN(128))\n",
        "\n",
        "# model.add(layers.Dense(10))\n",
        "\n",
        "# model = build_model(allow_cudnn_kernel=True)\n",
        "\n",
        "model.compile(\n",
        "    loss= tf.keras.losses.SparseCategoricalCrossentropy(from_logits=True),\n",
        "    optimizer=\"adam\",\n",
        "    metrics=[\"accuracy\"],\n",
        ")\n",
        "\n",
        "\n",
        "model.fit(\n",
        "    dataset_path, validation_data=dataset_path_val, batch_size=batch_size, epochs=20\n",
        ")\n",
        "\n",
        "model.summary()\n",
        "\n",
        "saving_path = pathlib.Path('/content/drive/MyDrive/RNNTest/RNNSavedModels/')\n",
        "\n",
        "tf.keras.models.save_model(model,                                     \n",
        "                           saving_path,\n",
        "                           overwrite=True,\n",
        "                           save_format='tf'\n",
        "                           )\n",
        "\n",
        "# model_lstm.fit(dataset_path, epochs=50, batch_size=32)"
      ],
      "metadata": {
        "id": "eP6GyJE66Jl2",
        "colab": {
          "base_uri": "https://localhost:8080/"
        },
        "outputId": "9e9e299e-64aa-4ca6-d438-205bc6bd982c"
      },
      "execution_count": 10,
      "outputs": [
        {
          "output_type": "stream",
          "name": "stdout",
          "text": [
            "Epoch 1/20\n",
            "68/68 [==============================] - 139s 2s/step - loss: 1.3449 - accuracy: 0.4435 - val_loss: 1.2355 - val_accuracy: 0.5754\n",
            "Epoch 2/20\n",
            "68/68 [==============================] - 1s 20ms/step - loss: 1.0529 - accuracy: 0.5716 - val_loss: 1.0449 - val_accuracy: 0.6210\n",
            "Epoch 3/20\n",
            "68/68 [==============================] - 1s 20ms/step - loss: 0.9361 - accuracy: 0.6242 - val_loss: 0.8669 - val_accuracy: 0.6937\n",
            "Epoch 4/20\n",
            "68/68 [==============================] - 1s 21ms/step - loss: 0.8260 - accuracy: 0.6765 - val_loss: 0.7062 - val_accuracy: 0.7533\n",
            "Epoch 5/20\n",
            "68/68 [==============================] - 1s 20ms/step - loss: 0.7417 - accuracy: 0.7177 - val_loss: 0.5907 - val_accuracy: 0.7961\n",
            "Epoch 6/20\n",
            "68/68 [==============================] - 1s 20ms/step - loss: 0.6602 - accuracy: 0.7558 - val_loss: 0.5121 - val_accuracy: 0.8054\n",
            "Epoch 7/20\n",
            "68/68 [==============================] - 1s 20ms/step - loss: 0.6028 - accuracy: 0.7693 - val_loss: 0.4556 - val_accuracy: 0.8259\n",
            "Epoch 8/20\n",
            "68/68 [==============================] - 1s 20ms/step - loss: 0.5522 - accuracy: 0.7888 - val_loss: 0.3947 - val_accuracy: 0.8585\n",
            "Epoch 9/20\n",
            "68/68 [==============================] - 1s 20ms/step - loss: 0.5056 - accuracy: 0.8151 - val_loss: 0.3759 - val_accuracy: 0.8622\n",
            "Epoch 10/20\n",
            "68/68 [==============================] - 1s 20ms/step - loss: 0.4939 - accuracy: 0.8151 - val_loss: 0.3460 - val_accuracy: 0.8734\n",
            "Epoch 11/20\n",
            "68/68 [==============================] - 1s 21ms/step - loss: 0.4469 - accuracy: 0.8353 - val_loss: 0.3115 - val_accuracy: 0.8845\n",
            "Epoch 12/20\n",
            "68/68 [==============================] - 1s 20ms/step - loss: 0.4198 - accuracy: 0.8491 - val_loss: 0.2899 - val_accuracy: 0.8985\n",
            "Epoch 13/20\n",
            "68/68 [==============================] - 2s 24ms/step - loss: 0.3969 - accuracy: 0.8572 - val_loss: 0.2658 - val_accuracy: 0.9032\n",
            "Epoch 14/20\n",
            "68/68 [==============================] - 2s 29ms/step - loss: 0.3665 - accuracy: 0.8630 - val_loss: 0.2513 - val_accuracy: 0.9097\n",
            "Epoch 15/20\n",
            "68/68 [==============================] - 1s 20ms/step - loss: 0.3506 - accuracy: 0.8719 - val_loss: 0.2352 - val_accuracy: 0.9125\n",
            "Epoch 16/20\n",
            "68/68 [==============================] - 1s 21ms/step - loss: 0.3270 - accuracy: 0.8835 - val_loss: 0.2399 - val_accuracy: 0.9162\n",
            "Epoch 17/20\n",
            "68/68 [==============================] - 1s 21ms/step - loss: 0.2983 - accuracy: 0.8963 - val_loss: 0.2202 - val_accuracy: 0.9227\n",
            "Epoch 18/20\n",
            "68/68 [==============================] - 1s 20ms/step - loss: 0.3008 - accuracy: 0.8912 - val_loss: 0.2051 - val_accuracy: 0.9264\n",
            "Epoch 19/20\n",
            "68/68 [==============================] - 1s 20ms/step - loss: 0.2931 - accuracy: 0.8940 - val_loss: 0.2272 - val_accuracy: 0.9181\n",
            "Epoch 20/20\n",
            "68/68 [==============================] - 1s 20ms/step - loss: 0.2906 - accuracy: 0.8940 - val_loss: 0.2108 - val_accuracy: 0.9236\n",
            "Model: \"model\"\n",
            "_________________________________________________________________\n",
            " Layer (type)                Output Shape              Param #   \n",
            "=================================================================\n",
            " input_1 (InputLayer)        [(None, None, 28)]        0         \n",
            "                                                                 \n",
            " lstm (LSTM)                 (None, 64)                23808     \n",
            "                                                                 \n",
            " batch_normalization (BatchN  (None, 64)               256       \n",
            " ormalization)                                                   \n",
            "                                                                 \n",
            " dense (Dense)               (None, 5)                 325       \n",
            "                                                                 \n",
            "=================================================================\n",
            "Total params: 24,389\n",
            "Trainable params: 24,261\n",
            "Non-trainable params: 128\n",
            "_________________________________________________________________\n"
          ]
        },
        {
          "output_type": "stream",
          "name": "stderr",
          "text": [
            "WARNING:absl:Found untraced functions such as lstm_cell_layer_call_fn, lstm_cell_layer_call_and_return_conditional_losses while saving (showing 2 of 2). These functions will not be directly callable after loading.\n",
            "WARNING:absl:<keras.layers.recurrent.LSTMCell object at 0x7f8023a13850> has the same name 'LSTMCell' as a built-in Keras object. Consider renaming <class 'keras.layers.recurrent.LSTMCell'> to avoid naming conflicts when loading with `tf.keras.models.load_model`. If renaming is not possible, pass the object in the `custom_objects` parameter of the load function.\n"
          ]
        }
      ]
    },
    {
      "cell_type": "code",
      "source": [
        "samp_path = pathlib.Path('/content/drive/MyDrive/imageai/LPDS/LP-detected-objects')\n",
        "\n",
        "sampl_path = tf.keras.utils.image_dataset_from_directory(      \n",
        "    samp_path,\n",
        "    labels= 'inferred',\n",
        "    seed= 1,\n",
        "    batch_size=1,\n",
        "    image_size=(28, 28),\n",
        "    color_mode=\"grayscale\",\n",
        "    shuffle=False)\n",
        "\n",
        "loading_path = pathlib.Path('/content/drive/MyDrive/RNNTest/RNNSavedModels/')\n",
        "loaded_model = tf.keras.models.load_model(loading_path, compile=True)   \n",
        "\n",
        "loaded_model.compile(                                                   \n",
        "    optimizer='adam',\n",
        "    loss=tf.losses.SparseCategoricalCrossentropy(),\n",
        "    metrics=['accuracy'])\n",
        "\n",
        "sample_list = []                                                      \n",
        "for sample,label in sampl_path:\n",
        "    sample = np.array(sample)\n",
        "    sample = sample.reshape(1, 28, 28)                # not sure what     \n",
        "    sample_list.append(sample)\n",
        "    continue\n",
        "\n",
        "sample_list = np.array(sample_list)\n",
        "print(\"len = \", len(sample_list))\n",
        "for sample in sample_list:                                             \n",
        "    predictions = loaded_model.predict(sample)\n",
        "    pred = np.argmax(predictions, axis=1)\n",
        "    print(pred[0])\n",
        "    plt.imshow(sample[0])\n",
        "    plt.show()"
      ],
      "metadata": {
        "colab": {
          "base_uri": "https://localhost:8080/",
          "height": 1000
        },
        "id": "JXsQgpSd1Kb1",
        "outputId": "467fd3e8-0610-451c-dd20-ee64c2745662"
      },
      "execution_count": 44,
      "outputs": [
        {
          "output_type": "stream",
          "name": "stdout",
          "text": [
            "Found 6 files belonging to 2 classes.\n",
            "len =  6\n",
            "1\n"
          ]
        },
        {
          "output_type": "display_data",
          "data": {
            "text/plain": [
              "<Figure size 432x288 with 1 Axes>"
            ],
            "image/png": "[encoded data removed]"
          },
          "metadata": {
            "needs_background": "light"
          }
        },
        {
          "output_type": "stream",
          "name": "stdout",
          "text": [
            "2\n"
          ]
        },
        {
          "output_type": "display_data",
          "data": {
            "text/plain": [
              "<Figure size 432x288 with 1 Axes>"
            ],
            "image/png": "[encoded data removed]"
          },
          "metadata": {
            "needs_background": "light"
          }
        },
        {
          "output_type": "stream",
          "name": "stdout",
          "text": [
            "2\n"
          ]
        },
        {
          "output_type": "display_data",
          "data": {
            "text/plain": [
              "<Figure size 432x288 with 1 Axes>"
            ],
            "image/png": "[encoded data removed]"
          },
          "metadata": {
            "needs_background": "light"
          }
        },
        {
          "output_type": "stream",
          "name": "stdout",
          "text": [
            "3\n"
          ]
        },
        {
          "output_type": "display_data",
          "data": {
            "text/plain": [
              "<Figure size 432x288 with 1 Axes>"
            ],
            "image/png": "[encoded data removed]"
          },
          "metadata": {
            "needs_background": "light"
          }
        },
        {
          "output_type": "stream",
          "name": "stdout",
          "text": [
            "0\n"
          ]
        },
        {
          "output_type": "display_data",
          "data": {
            "text/plain": [
              "<Figure size 432x288 with 1 Axes>"
            ],
            "image/png": "[encoded data removed]"
          },
          "metadata": {
            "needs_background": "light"
          }
        },
        {
          "output_type": "stream",
          "name": "stdout",
          "text": [
            "4\n"
          ]
        },
        {
          "output_type": "display_data",
          "data": {
            "text/plain": [
              "<Figure size 432x288 with 1 Axes>"
            ],
            "image/png": "[encoded data removed]"
          },
          "metadata": {
            "needs_background": "light"
          }
        }
      ]
    },
    {
      "cell_type": "code",
      "source": [
        "# with tf.device(\"CPU:0\"):\n",
        "#     cpu_model = build_model(allow_cudnn_kernel=True)\n",
        "#     cpu_model.set_weights(model.get_weights())\n",
        "#     sample =  np.array(sample)\n",
        "#     result = tf.argmax(cpu_model.predict(tf.expand_dims(sample, 0)), axis=1)\n",
        "#     print(\n",
        "#         \"Predicted result is: %s, target result is:\" % (result.numpy())\n",
        "#     )\n",
        "#     plt.imshow(sample, cmap=plt.get_cmap(\"gray\"))"
      ],
      "metadata": {
        "id": "FZZaXt8k6J9T"
      },
      "execution_count": 41,
      "outputs": []
    }
  ],
  "metadata": {
    "language_info": {
      "name": "python"
    },
    "orig_nbformat": 4,
    "colab": {
      "name": "LPR.ipynb",
      "provenance": []
    },
    "kernelspec": {
      "name": "python3",
      "display_name": "Python 3"
    },
    "gpuClass": "standard",
    "accelerator": "GPU"
  },
  "nbformat": 4,
  "nbformat_minor": 0
}
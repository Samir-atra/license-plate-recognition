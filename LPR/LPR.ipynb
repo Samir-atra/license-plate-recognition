{
  "cells": [
    {
      "cell_type": "markdown",
      "source": [
        "1- Detect and crop license plates in car images.\n",
        "\n",
        "https://www.kaggle.com/datasets/andrewmvd/car-plate-detection?select=annotations\n",
        "\n",
        "2- detect and crop characters from license plates images.\n",
        "\n",
        "3- classify characters and print text output."
      ],
      "metadata": {
        "id": "oQ5MYdOoM3UP"
      }
    },
    {
      "cell_type": "code",
      "execution_count": 1,
      "metadata": {
        "id": "pdn42kFymQoT",
        "outputId": "c91503a8-bca6-4740-9ec7-e5371665d7f5",
        "colab": {
          "base_uri": "https://localhost:8080/"
        }
      },
      "outputs": [
        {
          "output_type": "stream",
          "name": "stdout",
          "text": [
            "Looking in indexes: https://pypi.org/simple, https://us-python.pkg.dev/colab-wheels/public/simple/\n",
            "Requirement already satisfied: tensorflow==2.4.0 in /usr/local/lib/python3.7/dist-packages (2.4.0)\n",
            "Requirement already satisfied: absl-py~=0.10 in /usr/local/lib/python3.7/dist-packages (from tensorflow==2.4.0) (0.15.0)\n",
            "Requirement already satisfied: tensorboard~=2.4 in /usr/local/lib/python3.7/dist-packages (from tensorflow==2.4.0) (2.8.0)\n",
            "Requirement already satisfied: grpcio~=1.32.0 in /usr/local/lib/python3.7/dist-packages (from tensorflow==2.4.0) (1.32.0)\n",
            "Requirement already satisfied: tensorflow-estimator<2.5.0,>=2.4.0rc0 in /usr/local/lib/python3.7/dist-packages (from tensorflow==2.4.0) (2.4.0)\n",
            "Requirement already satisfied: numpy~=1.19.2 in /usr/local/lib/python3.7/dist-packages (from tensorflow==2.4.0) (1.19.3)\n",
            "Requirement already satisfied: h5py~=2.10.0 in /usr/local/lib/python3.7/dist-packages (from tensorflow==2.4.0) (2.10.0)\n",
            "Requirement already satisfied: google-pasta~=0.2 in /usr/local/lib/python3.7/dist-packages (from tensorflow==2.4.0) (0.2.0)\n",
            "Requirement already satisfied: protobuf>=3.9.2 in /usr/local/lib/python3.7/dist-packages (from tensorflow==2.4.0) (3.17.3)\n",
            "Requirement already satisfied: flatbuffers~=1.12.0 in /usr/local/lib/python3.7/dist-packages (from tensorflow==2.4.0) (1.12)\n",
            "Requirement already satisfied: wrapt~=1.12.1 in /usr/local/lib/python3.7/dist-packages (from tensorflow==2.4.0) (1.12.1)\n",
            "Requirement already satisfied: astunparse~=1.6.3 in /usr/local/lib/python3.7/dist-packages (from tensorflow==2.4.0) (1.6.3)\n",
            "Requirement already satisfied: opt-einsum~=3.3.0 in /usr/local/lib/python3.7/dist-packages (from tensorflow==2.4.0) (3.3.0)\n",
            "Requirement already satisfied: six~=1.15.0 in /usr/local/lib/python3.7/dist-packages (from tensorflow==2.4.0) (1.15.0)\n",
            "Requirement already satisfied: wheel~=0.35 in /usr/local/lib/python3.7/dist-packages (from tensorflow==2.4.0) (0.37.1)\n",
            "Requirement already satisfied: gast==0.3.3 in /usr/local/lib/python3.7/dist-packages (from tensorflow==2.4.0) (0.3.3)\n",
            "Requirement already satisfied: typing-extensions~=3.7.4 in /usr/local/lib/python3.7/dist-packages (from tensorflow==2.4.0) (3.7.4.3)\n",
            "Requirement already satisfied: termcolor~=1.1.0 in /usr/local/lib/python3.7/dist-packages (from tensorflow==2.4.0) (1.1.0)\n",
            "Requirement already satisfied: keras-preprocessing~=1.1.2 in /usr/local/lib/python3.7/dist-packages (from tensorflow==2.4.0) (1.1.2)\n",
            "Requirement already satisfied: google-auth-oauthlib<0.5,>=0.4.1 in /usr/local/lib/python3.7/dist-packages (from tensorboard~=2.4->tensorflow==2.4.0) (0.4.6)\n",
            "Requirement already satisfied: tensorboard-data-server<0.7.0,>=0.6.0 in /usr/local/lib/python3.7/dist-packages (from tensorboard~=2.4->tensorflow==2.4.0) (0.6.1)\n",
            "Requirement already satisfied: markdown>=2.6.8 in /usr/local/lib/python3.7/dist-packages (from tensorboard~=2.4->tensorflow==2.4.0) (3.3.7)\n",
            "Requirement already satisfied: setuptools>=41.0.0 in /usr/local/lib/python3.7/dist-packages (from tensorboard~=2.4->tensorflow==2.4.0) (57.4.0)\n",
            "Requirement already satisfied: requests<3,>=2.21.0 in /usr/local/lib/python3.7/dist-packages (from tensorboard~=2.4->tensorflow==2.4.0) (2.23.0)\n",
            "Requirement already satisfied: google-auth<3,>=1.6.3 in /usr/local/lib/python3.7/dist-packages (from tensorboard~=2.4->tensorflow==2.4.0) (1.35.0)\n",
            "Requirement already satisfied: tensorboard-plugin-wit>=1.6.0 in /usr/local/lib/python3.7/dist-packages (from tensorboard~=2.4->tensorflow==2.4.0) (1.8.1)\n",
            "Requirement already satisfied: werkzeug>=0.11.15 in /usr/local/lib/python3.7/dist-packages (from tensorboard~=2.4->tensorflow==2.4.0) (1.0.1)\n",
            "Requirement already satisfied: pyasn1-modules>=0.2.1 in /usr/local/lib/python3.7/dist-packages (from google-auth<3,>=1.6.3->tensorboard~=2.4->tensorflow==2.4.0) (0.2.8)\n",
            "Requirement already satisfied: cachetools<5.0,>=2.0.0 in /usr/local/lib/python3.7/dist-packages (from google-auth<3,>=1.6.3->tensorboard~=2.4->tensorflow==2.4.0) (4.2.4)\n",
            "Requirement already satisfied: rsa<5,>=3.1.4 in /usr/local/lib/python3.7/dist-packages (from google-auth<3,>=1.6.3->tensorboard~=2.4->tensorflow==2.4.0) (4.8)\n",
            "Requirement already satisfied: requests-oauthlib>=0.7.0 in /usr/local/lib/python3.7/dist-packages (from google-auth-oauthlib<0.5,>=0.4.1->tensorboard~=2.4->tensorflow==2.4.0) (1.3.1)\n",
            "Requirement already satisfied: importlib-metadata>=4.4 in /usr/local/lib/python3.7/dist-packages (from markdown>=2.6.8->tensorboard~=2.4->tensorflow==2.4.0) (4.11.4)\n",
            "Requirement already satisfied: zipp>=0.5 in /usr/local/lib/python3.7/dist-packages (from importlib-metadata>=4.4->markdown>=2.6.8->tensorboard~=2.4->tensorflow==2.4.0) (3.8.0)\n",
            "Requirement already satisfied: pyasn1<0.5.0,>=0.4.6 in /usr/local/lib/python3.7/dist-packages (from pyasn1-modules>=0.2.1->google-auth<3,>=1.6.3->tensorboard~=2.4->tensorflow==2.4.0) (0.4.8)\n",
            "Requirement already satisfied: urllib3!=1.25.0,!=1.25.1,<1.26,>=1.21.1 in /usr/local/lib/python3.7/dist-packages (from requests<3,>=2.21.0->tensorboard~=2.4->tensorflow==2.4.0) (1.24.3)\n",
            "Requirement already satisfied: chardet<4,>=3.0.2 in /usr/local/lib/python3.7/dist-packages (from requests<3,>=2.21.0->tensorboard~=2.4->tensorflow==2.4.0) (3.0.4)\n",
            "Requirement already satisfied: idna<3,>=2.5 in /usr/local/lib/python3.7/dist-packages (from requests<3,>=2.21.0->tensorboard~=2.4->tensorflow==2.4.0) (2.10)\n",
            "Requirement already satisfied: certifi>=2017.4.17 in /usr/local/lib/python3.7/dist-packages (from requests<3,>=2.21.0->tensorboard~=2.4->tensorflow==2.4.0) (2022.6.15)\n",
            "Requirement already satisfied: oauthlib>=3.0.0 in /usr/local/lib/python3.7/dist-packages (from requests-oauthlib>=0.7.0->google-auth-oauthlib<0.5,>=0.4.1->tensorboard~=2.4->tensorflow==2.4.0) (3.2.0)\n",
            "Looking in indexes: https://pypi.org/simple, https://us-python.pkg.dev/colab-wheels/public/simple/\n",
            "Requirement already satisfied: tensorflow-gpu==2.4.0 in /usr/local/lib/python3.7/dist-packages (2.4.0)\n",
            "Requirement already satisfied: opt-einsum~=3.3.0 in /usr/local/lib/python3.7/dist-packages (from tensorflow-gpu==2.4.0) (3.3.0)\n",
            "Requirement already satisfied: tensorboard~=2.4 in /usr/local/lib/python3.7/dist-packages (from tensorflow-gpu==2.4.0) (2.8.0)\n",
            "Requirement already satisfied: termcolor~=1.1.0 in /usr/local/lib/python3.7/dist-packages (from tensorflow-gpu==2.4.0) (1.1.0)\n",
            "Requirement already satisfied: astunparse~=1.6.3 in /usr/local/lib/python3.7/dist-packages (from tensorflow-gpu==2.4.0) (1.6.3)\n",
            "Requirement already satisfied: typing-extensions~=3.7.4 in /usr/local/lib/python3.7/dist-packages (from tensorflow-gpu==2.4.0) (3.7.4.3)\n",
            "Requirement already satisfied: h5py~=2.10.0 in /usr/local/lib/python3.7/dist-packages (from tensorflow-gpu==2.4.0) (2.10.0)\n",
            "Requirement already satisfied: wrapt~=1.12.1 in /usr/local/lib/python3.7/dist-packages (from tensorflow-gpu==2.4.0) (1.12.1)\n",
            "Requirement already satisfied: keras-preprocessing~=1.1.2 in /usr/local/lib/python3.7/dist-packages (from tensorflow-gpu==2.4.0) (1.1.2)\n",
            "Requirement already satisfied: tensorflow-estimator<2.5.0,>=2.4.0rc0 in /usr/local/lib/python3.7/dist-packages (from tensorflow-gpu==2.4.0) (2.4.0)\n",
            "Requirement already satisfied: protobuf>=3.9.2 in /usr/local/lib/python3.7/dist-packages (from tensorflow-gpu==2.4.0) (3.17.3)\n",
            "Requirement already satisfied: flatbuffers~=1.12.0 in /usr/local/lib/python3.7/dist-packages (from tensorflow-gpu==2.4.0) (1.12)\n",
            "Requirement already satisfied: gast==0.3.3 in /usr/local/lib/python3.7/dist-packages (from tensorflow-gpu==2.4.0) (0.3.3)\n",
            "Requirement already satisfied: numpy~=1.19.2 in /usr/local/lib/python3.7/dist-packages (from tensorflow-gpu==2.4.0) (1.19.3)\n",
            "Requirement already satisfied: absl-py~=0.10 in /usr/local/lib/python3.7/dist-packages (from tensorflow-gpu==2.4.0) (0.15.0)\n",
            "Requirement already satisfied: grpcio~=1.32.0 in /usr/local/lib/python3.7/dist-packages (from tensorflow-gpu==2.4.0) (1.32.0)\n",
            "Requirement already satisfied: wheel~=0.35 in /usr/local/lib/python3.7/dist-packages (from tensorflow-gpu==2.4.0) (0.37.1)\n",
            "Requirement already satisfied: google-pasta~=0.2 in /usr/local/lib/python3.7/dist-packages (from tensorflow-gpu==2.4.0) (0.2.0)\n",
            "Requirement already satisfied: six~=1.15.0 in /usr/local/lib/python3.7/dist-packages (from tensorflow-gpu==2.4.0) (1.15.0)\n",
            "Requirement already satisfied: tensorboard-data-server<0.7.0,>=0.6.0 in /usr/local/lib/python3.7/dist-packages (from tensorboard~=2.4->tensorflow-gpu==2.4.0) (0.6.1)\n",
            "Requirement already satisfied: markdown>=2.6.8 in /usr/local/lib/python3.7/dist-packages (from tensorboard~=2.4->tensorflow-gpu==2.4.0) (3.3.7)\n",
            "Requirement already satisfied: setuptools>=41.0.0 in /usr/local/lib/python3.7/dist-packages (from tensorboard~=2.4->tensorflow-gpu==2.4.0) (57.4.0)\n",
            "Requirement already satisfied: requests<3,>=2.21.0 in /usr/local/lib/python3.7/dist-packages (from tensorboard~=2.4->tensorflow-gpu==2.4.0) (2.23.0)\n",
            "Requirement already satisfied: google-auth-oauthlib<0.5,>=0.4.1 in /usr/local/lib/python3.7/dist-packages (from tensorboard~=2.4->tensorflow-gpu==2.4.0) (0.4.6)\n",
            "Requirement already satisfied: google-auth<3,>=1.6.3 in /usr/local/lib/python3.7/dist-packages (from tensorboard~=2.4->tensorflow-gpu==2.4.0) (1.35.0)\n",
            "Requirement already satisfied: tensorboard-plugin-wit>=1.6.0 in /usr/local/lib/python3.7/dist-packages (from tensorboard~=2.4->tensorflow-gpu==2.4.0) (1.8.1)\n",
            "Requirement already satisfied: werkzeug>=0.11.15 in /usr/local/lib/python3.7/dist-packages (from tensorboard~=2.4->tensorflow-gpu==2.4.0) (1.0.1)\n",
            "Requirement already satisfied: cachetools<5.0,>=2.0.0 in /usr/local/lib/python3.7/dist-packages (from google-auth<3,>=1.6.3->tensorboard~=2.4->tensorflow-gpu==2.4.0) (4.2.4)\n",
            "Requirement already satisfied: pyasn1-modules>=0.2.1 in /usr/local/lib/python3.7/dist-packages (from google-auth<3,>=1.6.3->tensorboard~=2.4->tensorflow-gpu==2.4.0) (0.2.8)\n",
            "Requirement already satisfied: rsa<5,>=3.1.4 in /usr/local/lib/python3.7/dist-packages (from google-auth<3,>=1.6.3->tensorboard~=2.4->tensorflow-gpu==2.4.0) (4.8)\n",
            "Requirement already satisfied: requests-oauthlib>=0.7.0 in /usr/local/lib/python3.7/dist-packages (from google-auth-oauthlib<0.5,>=0.4.1->tensorboard~=2.4->tensorflow-gpu==2.4.0) (1.3.1)\n",
            "Requirement already satisfied: importlib-metadata>=4.4 in /usr/local/lib/python3.7/dist-packages (from markdown>=2.6.8->tensorboard~=2.4->tensorflow-gpu==2.4.0) (4.11.4)\n",
            "Requirement already satisfied: zipp>=0.5 in /usr/local/lib/python3.7/dist-packages (from importlib-metadata>=4.4->markdown>=2.6.8->tensorboard~=2.4->tensorflow-gpu==2.4.0) (3.8.0)\n",
            "Requirement already satisfied: pyasn1<0.5.0,>=0.4.6 in /usr/local/lib/python3.7/dist-packages (from pyasn1-modules>=0.2.1->google-auth<3,>=1.6.3->tensorboard~=2.4->tensorflow-gpu==2.4.0) (0.4.8)\n",
            "Requirement already satisfied: chardet<4,>=3.0.2 in /usr/local/lib/python3.7/dist-packages (from requests<3,>=2.21.0->tensorboard~=2.4->tensorflow-gpu==2.4.0) (3.0.4)\n",
            "Requirement already satisfied: certifi>=2017.4.17 in /usr/local/lib/python3.7/dist-packages (from requests<3,>=2.21.0->tensorboard~=2.4->tensorflow-gpu==2.4.0) (2022.6.15)\n",
            "Requirement already satisfied: urllib3!=1.25.0,!=1.25.1,<1.26,>=1.21.1 in /usr/local/lib/python3.7/dist-packages (from requests<3,>=2.21.0->tensorboard~=2.4->tensorflow-gpu==2.4.0) (1.24.3)\n",
            "Requirement already satisfied: idna<3,>=2.5 in /usr/local/lib/python3.7/dist-packages (from requests<3,>=2.21.0->tensorboard~=2.4->tensorflow-gpu==2.4.0) (2.10)\n",
            "Requirement already satisfied: oauthlib>=3.0.0 in /usr/local/lib/python3.7/dist-packages (from requests-oauthlib>=0.7.0->google-auth-oauthlib<0.5,>=0.4.1->tensorboard~=2.4->tensorflow-gpu==2.4.0) (3.2.0)\n",
            "Looking in indexes: https://pypi.org/simple, https://us-python.pkg.dev/colab-wheels/public/simple/\n",
            "Requirement already satisfied: keras==2.4.3 in /usr/local/lib/python3.7/dist-packages (2.4.3)\n",
            "Requirement already satisfied: numpy==1.19.3 in /usr/local/lib/python3.7/dist-packages (1.19.3)\n",
            "Requirement already satisfied: pillow==7.0.0 in /usr/local/lib/python3.7/dist-packages (7.0.0)\n",
            "Requirement already satisfied: scipy==1.4.1 in /usr/local/lib/python3.7/dist-packages (1.4.1)\n",
            "Requirement already satisfied: h5py==2.10.0 in /usr/local/lib/python3.7/dist-packages (2.10.0)\n",
            "Requirement already satisfied: matplotlib==3.3.2 in /usr/local/lib/python3.7/dist-packages (3.3.2)\n",
            "Requirement already satisfied: opencv-python in /usr/local/lib/python3.7/dist-packages (4.1.2.30)\n",
            "Requirement already satisfied: keras-resnet==0.2.0 in /usr/local/lib/python3.7/dist-packages (0.2.0)\n",
            "Requirement already satisfied: pyyaml in /usr/local/lib/python3.7/dist-packages (from keras==2.4.3) (3.13)\n",
            "Requirement already satisfied: six in /usr/local/lib/python3.7/dist-packages (from h5py==2.10.0) (1.15.0)\n",
            "Requirement already satisfied: certifi>=2020.06.20 in /usr/local/lib/python3.7/dist-packages (from matplotlib==3.3.2) (2022.6.15)\n",
            "Requirement already satisfied: pyparsing!=2.0.4,!=2.1.2,!=2.1.6,>=2.0.3 in /usr/local/lib/python3.7/dist-packages (from matplotlib==3.3.2) (3.0.9)\n",
            "Requirement already satisfied: cycler>=0.10 in /usr/local/lib/python3.7/dist-packages (from matplotlib==3.3.2) (0.11.0)\n",
            "Requirement already satisfied: python-dateutil>=2.1 in /usr/local/lib/python3.7/dist-packages (from matplotlib==3.3.2) (2.8.2)\n",
            "Requirement already satisfied: kiwisolver>=1.0.1 in /usr/local/lib/python3.7/dist-packages (from matplotlib==3.3.2) (1.4.3)\n",
            "Requirement already satisfied: typing-extensions in /usr/local/lib/python3.7/dist-packages (from kiwisolver>=1.0.1->matplotlib==3.3.2) (3.7.4.3)\n",
            "Looking in indexes: https://pypi.org/simple, https://us-python.pkg.dev/colab-wheels/public/simple/\n",
            "Requirement already satisfied: imageai in /usr/local/lib/python3.7/dist-packages (2.1.6)\n",
            "Requirement already satisfied: numpy==1.19.3 in /usr/local/lib/python3.7/dist-packages (from imageai) (1.19.3)\n",
            "Requirement already satisfied: h5py==2.10.0 in /usr/local/lib/python3.7/dist-packages (from imageai) (2.10.0)\n",
            "Requirement already satisfied: pillow==7.0.0 in /usr/local/lib/python3.7/dist-packages (from imageai) (7.0.0)\n",
            "Requirement already satisfied: opencv-python in /usr/local/lib/python3.7/dist-packages (from imageai) (4.1.2.30)\n",
            "Requirement already satisfied: keras==2.4.3 in /usr/local/lib/python3.7/dist-packages (from imageai) (2.4.3)\n",
            "Requirement already satisfied: scipy==1.4.1 in /usr/local/lib/python3.7/dist-packages (from imageai) (1.4.1)\n",
            "Requirement already satisfied: matplotlib==3.3.2 in /usr/local/lib/python3.7/dist-packages (from imageai) (3.3.2)\n",
            "Requirement already satisfied: keras-resnet==0.2.0 in /usr/local/lib/python3.7/dist-packages (from imageai) (0.2.0)\n",
            "Requirement already satisfied: six in /usr/local/lib/python3.7/dist-packages (from h5py==2.10.0->imageai) (1.15.0)\n",
            "Requirement already satisfied: pyyaml in /usr/local/lib/python3.7/dist-packages (from keras==2.4.3->imageai) (3.13)\n",
            "Requirement already satisfied: pyparsing!=2.0.4,!=2.1.2,!=2.1.6,>=2.0.3 in /usr/local/lib/python3.7/dist-packages (from matplotlib==3.3.2->imageai) (3.0.9)\n",
            "Requirement already satisfied: python-dateutil>=2.1 in /usr/local/lib/python3.7/dist-packages (from matplotlib==3.3.2->imageai) (2.8.2)\n",
            "Requirement already satisfied: cycler>=0.10 in /usr/local/lib/python3.7/dist-packages (from matplotlib==3.3.2->imageai) (0.11.0)\n",
            "Requirement already satisfied: certifi>=2020.06.20 in /usr/local/lib/python3.7/dist-packages (from matplotlib==3.3.2->imageai) (2022.6.15)\n",
            "Requirement already satisfied: kiwisolver>=1.0.1 in /usr/local/lib/python3.7/dist-packages (from matplotlib==3.3.2->imageai) (1.4.3)\n",
            "Requirement already satisfied: typing-extensions in /usr/local/lib/python3.7/dist-packages (from kiwisolver>=1.0.1->matplotlib==3.3.2->imageai) (3.7.4.3)\n",
            "Drive already mounted at /content/drive; to attempt to forcibly remount, call drive.mount(\"/content/drive\", force_remount=True).\n"
          ]
        }
      ],
      "source": [
        "# Imports\n",
        "\n",
        "!pip install tensorflow==2.4.0\n",
        "!pip install tensorflow-gpu==2.4.0\n",
        "!pip install keras==2.4.3 numpy==1.19.3 pillow==7.0.0 scipy==1.4.1 h5py==2.10.0 matplotlib==3.3.2 opencv-python keras-resnet==0.2.0\n",
        "!pip install imageai --upgrade\n",
        "import tensorflow as tf\n",
        "import tensorflow_datasets as tfds\n",
        "import numpy as np\n",
        "import os\n",
        "import PIL.Image\n",
        "from PIL import ImageOps\n",
        "import PIL\n",
        "import pathlib\n",
        "import matplotlib.pyplot as plt\n",
        "import datetime\n",
        "import tensorboard\n",
        "import IPython\n",
        "import sklearn\n",
        "import cv2\n",
        "import subprocess\n",
        "import sys\n",
        "from imageai.Classification import ImageClassification\n",
        "from imageai.Detection.Custom import DetectionModelTrainer\n",
        "from imageai.Detection.Custom import CustomObjectDetection\n",
        "from google.colab import drive\n",
        "drive.mount('/content/drive')"
      ]
    },
    {
      "cell_type": "code",
      "source": [
        "trainer = DetectionModelTrainer()\n",
        "trainer.setModelTypeAsYOLOv3()\n",
        "trainer.setDataDirectory(data_directory=\"/content/drive/MyDrive/imageai/LPDS\")\n",
        "trainer.setTrainConfig(object_names_array=[\"licence\"], batch_size=5, num_experiments=20, train_from_pretrained_model=\"/content/drive/MyDrive/imageai/resnet50_coco_best_v2.1.0.h5\")\n",
        "trainer.trainModel()\n",
        "\n",
        "# trainer = DetectionModelTrainer()\n",
        "# trainer.setModelTypeAsYOLOv3()\n",
        "# trainer.setDataDirectory(data_directory=\"/content/drive/MyDrive/imageai/LPDS\")\n",
        "# metrics = trainer.evaluateModel(model_path=\"/content/drive/MyDrive/imageai/LPDS/models\", json_path=\"/content/drive/MyDrive/imageai/LPDS/json/detection_config.json\", iou_threshold=0.5, object_threshold=0.3, nms_threshold=0.5)\n",
        "# print(metrics)"
      ],
      "metadata": {
        "id": "XJKc9CNPWaTU",
        "outputId": "2a353d6e-2dfe-4f7d-9f56-371f52ea7409",
        "colab": {
          "base_uri": "https://localhost:8080/"
        }
      },
      "execution_count": 2,
      "outputs": [
        {
          "output_type": "stream",
          "name": "stdout",
          "text": [
            "Generating anchor boxes for training images and annotation...\n",
            "Average IOU for 9 anchors: 0.72\n",
            "Anchor Boxes generated.\n",
            "Detection configuration saved in  /content/drive/MyDrive/imageai/LPDS/json/detection_config.json\n",
            "Evaluating over 101 samples taken from /content/drive/MyDrive/imageai/LPDS/validation\n",
            "Training over 332 samples  given at /content/drive/MyDrive/imageai/LPDS/train\n",
            "Training on: \t['licence']\n",
            "Training with Batch Size:  5\n",
            "Number of Training Samples:  332\n",
            "Number of Validation Samples:  101\n",
            "Number of Experiments:  20\n",
            "Training with transfer learning from pretrained Model\n",
            "WARNING:tensorflow:`period` argument is deprecated. Please use `save_freq` to specify the frequency in number of batches seen.\n",
            "WARNING:tensorflow:`epsilon` argument is deprecated and will be removed, use `min_delta` instead.\n"
          ]
        },
        {
          "output_type": "stream",
          "name": "stderr",
          "text": [
            "/usr/local/lib/python3.7/dist-packages/tensorflow/python/keras/engine/training.py:1844: UserWarning: `Model.fit_generator` is deprecated and will be removed in a future version. Please use `Model.fit`, which supports generators.\n",
            "  warnings.warn('`Model.fit_generator` is deprecated and '\n",
            "/usr/local/lib/python3.7/dist-packages/tensorflow/python/data/ops/dataset_ops.py:3504: UserWarning: Even though the tf.config.experimental_run_functions_eagerly option is set, this option does not apply to tf.data functions. tf.data functions are still traced and executed as graphs.\n",
            "  \"Even though the tf.config.experimental_run_functions_eagerly \"\n"
          ]
        },
        {
          "output_type": "stream",
          "name": "stdout",
          "text": [
            "WARNING:tensorflow:Model failed to serialize as JSON. Ignoring... Layer YoloLayer has arguments in `__init__` and therefore must override `get_config`.\n",
            "Epoch 1/20\n",
            "536/536 [==============================] - 443s 808ms/step - loss: 59.6049 - yolo_layer_loss: 7.3327 - yolo_layer_1_loss: 17.1698 - yolo_layer_2_loss: 23.7922 - val_loss: 31.7920 - val_yolo_layer_loss: 3.7460 - val_yolo_layer_1_loss: 8.5456 - val_yolo_layer_2_loss: 11.0768\n",
            "Epoch 2/20\n",
            "536/536 [==============================] - 353s 657ms/step - loss: 23.5950 - yolo_layer_loss: 2.9304 - yolo_layer_1_loss: 5.9551 - yolo_layer_2_loss: 7.1046 - val_loss: 32.2135 - val_yolo_layer_loss: 6.5893 - val_yolo_layer_1_loss: 9.6832 - val_yolo_layer_2_loss: 9.8265\n",
            "Epoch 3/20\n",
            "536/536 [==============================] - 344s 641ms/step - loss: 19.7554 - yolo_layer_loss: 2.8889 - yolo_layer_1_loss: 5.0501 - yolo_layer_2_loss: 5.8850 - val_loss: 17.4429 - val_yolo_layer_loss: 2.0728 - val_yolo_layer_1_loss: 4.5546 - val_yolo_layer_2_loss: 5.2518\n",
            "Epoch 4/20\n",
            "536/536 [==============================] - 359s 669ms/step - loss: 19.1068 - yolo_layer_loss: 3.5850 - yolo_layer_1_loss: 4.5150 - yolo_layer_2_loss: 5.5152 - val_loss: 18.6486 - val_yolo_layer_loss: 4.5829 - val_yolo_layer_1_loss: 4.0123 - val_yolo_layer_2_loss: 4.7806\n",
            "Epoch 5/20\n",
            "536/536 [==============================] - 344s 640ms/step - loss: 18.0737 - yolo_layer_loss: 3.5178 - yolo_layer_1_loss: 4.1535 - yolo_layer_2_loss: 5.1757 - val_loss: 39.3927 - val_yolo_layer_loss: 24.4901 - val_yolo_layer_1_loss: 4.9978 - val_yolo_layer_2_loss: 4.7986\n",
            "Epoch 6/20\n",
            "536/536 [==============================] - 352s 655ms/step - loss: 17.6603 - yolo_layer_loss: 3.6303 - yolo_layer_1_loss: 4.1066 - yolo_layer_2_loss: 4.8722 - val_loss: 16.1171 - val_yolo_layer_loss: 2.7480 - val_yolo_layer_1_loss: 3.9518 - val_yolo_layer_2_loss: 4.5022\n",
            "Epoch 7/20\n",
            "536/536 [==============================] - 343s 639ms/step - loss: 16.4377 - yolo_layer_loss: 2.9335 - yolo_layer_1_loss: 3.9593 - yolo_layer_2_loss: 4.6834 - val_loss: 16.0807 - val_yolo_layer_loss: 2.0977 - val_yolo_layer_1_loss: 4.5278 - val_yolo_layer_2_loss: 4.7379\n",
            "Epoch 8/20\n",
            "536/536 [==============================] - 346s 642ms/step - loss: 15.5639 - yolo_layer_loss: 2.6208 - yolo_layer_1_loss: 3.6771 - yolo_layer_2_loss: 4.5924 - val_loss: 14.8724 - val_yolo_layer_loss: 2.4757 - val_yolo_layer_1_loss: 3.7616 - val_yolo_layer_2_loss: 4.0870\n",
            "Epoch 9/20\n",
            "536/536 [==============================] - 349s 650ms/step - loss: 15.9146 - yolo_layer_loss: 3.2523 - yolo_layer_1_loss: 3.6815 - yolo_layer_2_loss: 4.4669 - val_loss: 13.8318 - val_yolo_layer_loss: 2.3673 - val_yolo_layer_1_loss: 3.4693 - val_yolo_layer_2_loss: 3.5854\n",
            "Epoch 10/20\n",
            "536/536 [==============================] - 343s 638ms/step - loss: 14.9803 - yolo_layer_loss: 3.1253 - yolo_layer_1_loss: 3.3139 - yolo_layer_2_loss: 4.1637 - val_loss: 27.8392 - val_yolo_layer_loss: 16.1701 - val_yolo_layer_1_loss: 3.6917 - val_yolo_layer_2_loss: 3.7051\n",
            "Epoch 11/20\n",
            "536/536 [==============================] - 345s 643ms/step - loss: 14.9307 - yolo_layer_loss: 3.1068 - yolo_layer_1_loss: 3.4356 - yolo_layer_2_loss: 4.1480 - val_loss: 14.0674 - val_yolo_layer_loss: 2.5204 - val_yolo_layer_1_loss: 3.6245 - val_yolo_layer_2_loss: 3.7684\n",
            "Epoch 12/20\n",
            "536/536 [==============================] - 350s 650ms/step - loss: 14.4590 - yolo_layer_loss: 3.0175 - yolo_layer_1_loss: 3.2938 - yolo_layer_2_loss: 4.0203 - val_loss: 16.2456 - val_yolo_layer_loss: 3.6844 - val_yolo_layer_1_loss: 4.5976 - val_yolo_layer_2_loss: 3.9160\n",
            "Epoch 13/20\n",
            "536/536 [==============================] - 344s 640ms/step - loss: 14.8653 - yolo_layer_loss: 3.2834 - yolo_layer_1_loss: 3.4420 - yolo_layer_2_loss: 4.1184 - val_loss: 13.6574 - val_yolo_layer_loss: 2.2003 - val_yolo_layer_1_loss: 3.5344 - val_yolo_layer_2_loss: 3.9802\n",
            "Epoch 14/20\n",
            "536/536 [==============================] - 341s 634ms/step - loss: 14.1180 - yolo_layer_loss: 3.2254 - yolo_layer_1_loss: 3.0415 - yolo_layer_2_loss: 3.9304 - val_loss: 25.8856 - val_yolo_layer_loss: 14.1927 - val_yolo_layer_1_loss: 3.7807 - val_yolo_layer_2_loss: 4.0534\n",
            "Epoch 15/20\n",
            "536/536 [==============================] - 339s 631ms/step - loss: 13.7461 - yolo_layer_loss: 2.9219 - yolo_layer_1_loss: 3.0852 - yolo_layer_2_loss: 3.9059 - val_loss: 12.7122 - val_yolo_layer_loss: 2.5081 - val_yolo_layer_1_loss: 3.0629 - val_yolo_layer_2_loss: 3.3771\n",
            "Epoch 16/20\n",
            "536/536 [==============================] - 343s 639ms/step - loss: 13.3739 - yolo_layer_loss: 2.7819 - yolo_layer_1_loss: 2.9889 - yolo_layer_2_loss: 3.8617 - val_loss: 14.4514 - val_yolo_layer_loss: 3.5831 - val_yolo_layer_1_loss: 3.9637 - val_yolo_layer_2_loss: 3.2234\n",
            "Epoch 17/20\n",
            "536/536 [==============================] - 342s 636ms/step - loss: 13.4446 - yolo_layer_loss: 3.1212 - yolo_layer_1_loss: 3.0220 - yolo_layer_2_loss: 3.6426 - val_loss: 13.3635 - val_yolo_layer_loss: 2.3976 - val_yolo_layer_1_loss: 3.7448 - val_yolo_layer_2_loss: 3.6267\n",
            "Epoch 18/20\n",
            "536/536 [==============================] - 337s 627ms/step - loss: 12.9649 - yolo_layer_loss: 2.6648 - yolo_layer_1_loss: 2.9301 - yolo_layer_2_loss: 3.7931 - val_loss: 11.7484 - val_yolo_layer_loss: 2.1537 - val_yolo_layer_1_loss: 2.8106 - val_yolo_layer_2_loss: 3.2593\n",
            "Epoch 19/20\n",
            "536/536 [==============================] - 340s 634ms/step - loss: 13.7329 - yolo_layer_loss: 3.4284 - yolo_layer_1_loss: 2.9686 - yolo_layer_2_loss: 3.8282 - val_loss: 13.4698 - val_yolo_layer_loss: 3.1213 - val_yolo_layer_1_loss: 3.4214 - val_yolo_layer_2_loss: 3.4669\n",
            "Epoch 20/20\n",
            "536/536 [==============================] - 338s 629ms/step - loss: 12.7605 - yolo_layer_loss: 2.8403 - yolo_layer_1_loss: 2.8316 - yolo_layer_2_loss: 3.6421 - val_loss: 12.0210 - val_yolo_layer_loss: 2.1132 - val_yolo_layer_1_loss: 2.9890 - val_yolo_layer_2_loss: 3.5171\n"
          ]
        }
      ]
    },
    {
      "cell_type": "code",
      "source": [
        "detector = CustomObjectDetection()\n",
        "detector.setModelTypeAsYOLOv3()\n",
        "detector.setModelPath(\"/content/drive/MyDrive/imageai/LPDS/models/detection_model-ex-034--loss-0013.373.h5\")\n",
        "detector.setJsonPath(\"/content/drive/MyDrive/imageai/LPDS/json/detection_config.json\")\n",
        "detector.loadModel()\n",
        "detections = detector.detectObjectsFromImage(input_image=\"/content/drive/MyDrive/imageai/LPDS/train/images/Cars103.png\", output_image_path=\"/content/drive/MyDrive/imageai/LP-detected.jpg\")\n",
        "for detection in detections:\n",
        "    print(detection[\"name\"], \" : \", detection[\"percentage_probability\"], \" : \", detection[\"box_points\"])"
      ],
      "metadata": {
        "id": "oyfEsUp5Xunc",
        "outputId": "5579a561-d5e6-41af-de25-8fefa2bff6df",
        "colab": {
          "base_uri": "https://localhost:8080/"
        }
      },
      "execution_count": 6,
      "outputs": [
        {
          "output_type": "stream",
          "name": "stderr",
          "text": [
            "/usr/local/lib/python3.7/dist-packages/tensorflow/python/data/ops/dataset_ops.py:3504: UserWarning: Even though the tf.config.experimental_run_functions_eagerly option is set, this option does not apply to tf.data functions. tf.data functions are still traced and executed as graphs.\n",
            "  \"Even though the tf.config.experimental_run_functions_eagerly \"\n"
          ]
        }
      ]
    },
    {
      "cell_type": "code",
      "source": [
        "prediction = ImageClassification()\n",
        "\n",
        "base_model = tf.keras.applications.inception_v3.InceptionV3(\n",
        "    input_shape = (299, 299, 3),\n",
        "    include_top = True, \n",
        "    weights = \"imagenet\"                  \n",
        ")\n",
        "\n",
        "saving_path = pathlib.Path('/content/drive/MyDrive/imageai/SavedBaseModel.h5')\n",
        "\n",
        "base_model.save(saving_path)\n",
        "\n",
        "model_path = pathlib.Path('/content/drive/MyDrive/imageai/SavedBaseModel.h5')\n",
        "\n",
        "prediction.setModelTypeAsInceptionV3()\n",
        "\n",
        "prediction.setModelPath(\"/content/drive/MyDrive/imageai/SavedBaseModel.h5\")\n",
        "\n",
        "prediction.loadModel()\n",
        "\n",
        "predictions, probabilities = prediction.classifyImage(\"/content/drive/MyDrive/License_Plate_Recognition/LicPlateImages/10.png\", result_count=10)\n",
        "\n",
        "for eachPrediction, eachProbability in zip(predictions, probabilities):\n",
        "    print(eachPrediction , \" : \" , eachProbability)\n"
      ],
      "metadata": {
        "id": "OP4sm6UXmbe9"
      },
      "execution_count": null,
      "outputs": []
    }
  ],
  "metadata": {
    "language_info": {
      "name": "python"
    },
    "orig_nbformat": 4,
    "colab": {
      "name": "LPR.ipynb",
      "provenance": []
    },
    "kernelspec": {
      "name": "python3",
      "display_name": "Python 3"
    },
    "gpuClass": "standard",
    "accelerator": "GPU"
  },
  "nbformat": 4,
  "nbformat_minor": 0
}
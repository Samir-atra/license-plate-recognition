{
  "cells": [
    {
      "cell_type": "code",
      "execution_count": 1,
      "metadata": {
        "colab": {
          "base_uri": "https://localhost:8080/"
        },
        "id": "pdn42kFymQoT",
        "outputId": "cc84aeff-ff4e-4368-9bde-38b5ef07d31b"
      },
      "outputs": [
        {
          "name": "stdout",
          "output_type": "stream",
          "text": [
            "Drive already mounted at /content/drive; to attempt to forcibly remount, call drive.mount(\"/content/drive\", force_remount=True).\n"
          ]
        }
      ],
      "source": [
        "# Imports\n",
        "\n",
        "# !pip install tensorflow==2.4.0\n",
        "# !pip install tensorflow-gpu==2.4.0\n",
        "# !pip install keras==2.4.3 numpy==1.19.3 pillow==7.0.0 scipy==1.4.1 h5py==2.10.0 matplotlib==3.3.2 opencv-python keras-resnet==0.2.0\n",
        "# !pip install imageai --upgrade\n",
        "import tensorflow as tf\n",
        "import tensorflow_datasets as tfds\n",
        "import numpy as np\n",
        "import os\n",
        "import PIL.Image\n",
        "from PIL import ImageOps\n",
        "import PIL\n",
        "import pathlib\n",
        "import matplotlib.pyplot as plt\n",
        "import datetime\n",
        "import tensorboard\n",
        "import IPython\n",
        "import sklearn\n",
        "import cv2\n",
        "import subprocess\n",
        "import sys\n",
        "# from imageai.Classification import ImageClassification\n",
        "# from imageai.Detection.Custom import DetectionModelTrainer\n",
        "# from imageai.Detection.Custom import CustomObjectDetection\n",
        "from google.colab import drive\n",
        "drive.mount('/content/drive')"
      ]
    },
    {
      "cell_type": "code",
      "execution_count": 2,
      "metadata": {
        "id": "XJKc9CNPWaTU"
      },
      "outputs": [],
      "source": [
        "#Trainer\n",
        "\n",
        "# trainer = DetectionModelTrainer()\n",
        "# trainer.setModelTypeAsYOLOv3()\n",
        "# trainer.setDataDirectory(data_directory=\"/content/drive/MyDrive/imageai/LPDS\")\n",
        "# trainer.setTrainConfig(object_names_array=[\"licence\"], batch_size=8, num_experiments=30, train_from_pretrained_model=\"/content/drive/MyDrive/imageai/LPDS/models/detection_model-ex-018--loss-0014.416.h5\")\n",
        "# trainer.trainModel()"
      ]
    },
    {
      "cell_type": "code",
      "execution_count": 3,
      "metadata": {
        "id": "IKrnSm0_jTCm"
      },
      "outputs": [],
      "source": [
        "#Evaluate\n",
        "\n",
        "# trainer = DetectionModelTrainer()\n",
        "# trainer.setModelTypeAsYOLOv3()\n",
        "# trainer.setDataDirectory(data_directory=\"/content/drive/MyDrive/imageai/LPDS\")\n",
        "# metrics = trainer.evaluateModel(model_path=\"/content/drive/MyDrive/imageai/LPDS/models\", json_path=\"/content/drive/MyDrive/imageai/LPDS/json/detection_config.json\", iou_threshold=0.5, object_threshold=0.3, nms_threshold=0.5)\n",
        "# print(metrics)"
      ]
    },
    {
      "cell_type": "code",
      "execution_count": 4,
      "metadata": {
        "id": "oyfEsUp5Xunc"
      },
      "outputs": [],
      "source": [
        "#Detector\n",
        "\n",
        "# detector = CustomObjectDetection()\n",
        "# detector.setModelTypeAsYOLOv3()\n",
        "# detector.setModelPath(\"/content/drive/MyDrive/imageai/LPDS/models/detection_model-ex-029--loss-0014.191.h5\")\n",
        "# detector.setJsonPath(\"/content/drive/MyDrive/imageai/LPDS/json/detection_config.json\")\n",
        "# detector.loadModel()\n",
        "# detections = detector.detectObjectsFromImage(input_image=\"/content/drive/MyDrive/imageai/LPDS/train/images/Cars100.png\", output_image_path=\"/content/drive/MyDrive/imageai/LP-detected.jpg\",  extract_detected_objects=True)\n",
        "# #for detection in detections:\n",
        "#  #   print(detection[\"name\"], \" : \", detection[\"percentage_probability\"], \" : \", detection[\"box_points\"])"
      ]
    },
    {
      "cell_type": "code",
      "execution_count": 5,
      "metadata": {
        "id": "OP4sm6UXmbe9"
      },
      "outputs": [],
      "source": [
        "# prediction = ImageClassification()\n",
        "\n",
        "# base_model = tf.keras.applications.inception_v3.InceptionV3(\n",
        "#     input_shape = (299, 299, 3),\n",
        "#     include_top = True, \n",
        "#     weights = \"imagenet\"                  \n",
        "# )\n",
        "\n",
        "# saving_path = pathlib.Path('/content/drive/MyDrive/imageai/SavedBaseModel.h5')\n",
        "\n",
        "# base_model.save(saving_path)\n",
        "\n",
        "# model_path = pathlib.Path('/content/drive/MyDrive/imageai/SavedBaseModel.h5')\n",
        "\n",
        "# prediction.setModelTypeAsInceptionV3()\n",
        "\n",
        "# prediction.setModelPath(\"/content/drive/MyDrive/imageai/SavedBaseModel.h5\")\n",
        "\n",
        "# prediction.loadModel()\n",
        "\n",
        "# predictions, probabilities = prediction.classifyImage(\"/content/drive/MyDrive/License_Plate_Recognition/LicPlateImages/10.png\", result_count=10)\n",
        "\n",
        "# for eachPrediction, eachProbability in zip(predictions, probabilities):\n",
        "#     print(eachPrediction , \" : \" , eachProbability)\n"
      ]
    },
    {
      "cell_type": "code",
      "execution_count": 6,
      "metadata": {
        "id": "NnQNVF8p5zzU"
      },
      "outputs": [],
      "source": [
        "# batch_size = 64\n",
        "# # Each MNIST image batch is a tensor of shape (batch_size, 28, 28).\n",
        "# # Each input sequence will be of size (28, 28) (height is treated like time).\n",
        "# input_dim = 28\n",
        "\n",
        "# units = 64\n",
        "# output_size = 5  # labels are from 0 to 9\n",
        "\n",
        "# # Build the RNN model\n",
        "# def build_model(allow_cudnn_kernel=True):\n",
        "#     # CuDNN is only available at the layer level, and not at the cell level.\n",
        "#     # This means `LSTM(units)` will use the CuDNN kernel,\n",
        "#     # while RNN(LSTMCell(units)) will run on non-CuDNN kernel.\n",
        "#     if allow_cudnn_kernel:\n",
        "#         # The LSTM layer with default options uses CuDNN.\n",
        "#         lstm_layer = keras.layers.LSTM(units, return_state=True, input_shape=(None, input_dim))\n",
        "#         # lstm_layer = keras.layers.GRU(units, input_shape=(None, input_dim))\n",
        "#     else:\n",
        "#         # Wrapping a LSTMCell in a RNN layer will not use CuDNN.\n",
        "#         lstm_layer = keras.layers.RNN(\n",
        "#             keras.layers.LSTMCell(units), input_shape=(None, input_dim)\n",
        "#         )\n",
        "#     model = keras.models.Sequential(\n",
        "#         [\n",
        "#            # keras.layers.Conv2D(16, 3, activation='ELU', kernel_regularizer=tf.keras.regularizers.l2(0.001)),    \n",
        "#            # keras.layers.Rescaling(scale=1/255),\n",
        "#             lstm_layer,\n",
        "#             keras.layers.BatchNormalization(),\n",
        "#             keras.layers.Dense(output_size),\n",
        "#         ]\n",
        "#     )\n",
        "#     return model\n"
      ]
    },
    {
      "cell_type": "code",
      "execution_count": 7,
      "metadata": {
        "colab": {
          "base_uri": "https://localhost:8080/"
        },
        "id": "3p_tINDY50SJ",
        "outputId": "fc5f109b-4a90-4f93-a39e-e85229cc4b2b"
      },
      "outputs": [
        {
          "name": "stdout",
          "output_type": "stream",
          "text": [
            "Found 10600 files belonging to 10 classes.\n",
            "Using 8480 files for training.\n",
            "Found 10600 files belonging to 10 classes.\n",
            "Using 2120 files for validation.\n",
            "Found 1 files belonging to 2 classes.\n"
          ]
        }
      ],
      "source": [
        "batch_size = 96\n",
        "input_dim = 28\n",
        "units = 64\n",
        "output_size = 11\n",
        "\n",
        "data_path = pathlib.Path('/content/drive/MyDrive/RNNTest/dataset_characters_blackbackground')\n",
        "sample_path = pathlib.Path('/content/drive/MyDrive/imageai/LPDS/LP-detected-objects')\n",
        "\n",
        "dataset_path, dataset_path_val = tf.keras.utils.image_dataset_from_directory(        # Training and validation datasets\n",
        "    data_path,\n",
        "    labels= 'inferred',\n",
        "    validation_split=0.2,\n",
        "    subset='both',\n",
        "    seed= 1,\n",
        "    batch_size=batch_size,\n",
        "    image_size=(input_dim,input_dim),\n",
        "    color_mode=\"grayscale\",\n",
        "    shuffle=True)\n",
        "\n",
        "sample = tf.keras.utils.image_dataset_from_directory(\n",
        "    sample_path,\n",
        "    labels= 'inferred',\n",
        "    batch_size=1,\n",
        "    image_size=(200,200),\n",
        "    color_mode=\"grayscale\"\n",
        ")"
      ]
    },
    {
      "cell_type": "code",
      "execution_count": 8,
      "metadata": {
        "id": "mMSbdSWg50q8"
      },
      "outputs": [],
      "source": [
        "AUTOTUNE=tf.data.AUTOTUNE\n",
        "dataset_path = dataset_path.cache().prefetch(buffer_size=AUTOTUNE)\n",
        "dataset_path_val = dataset_path_val.cache().prefetch(buffer_size=AUTOTUNE)"
      ]
    },
    {
      "cell_type": "code",
      "execution_count": 9,
      "metadata": {
        "id": "d-12YQuAqxnS"
      },
      "outputs": [],
      "source": [
        "\n",
        "\n",
        "# lstm_layer = tf.keras.layers.LSTM(units, input_shape=(None, input_dim), dropout=0.2)\n",
        "\n",
        "inputs = tf.keras.Input(shape=(None, input_dim))\n",
        "# r = tf.keras.layers.RandomRotation(0.25)(inputs)\n",
        "x = tf.keras.layers.LSTM(units, dropout=0.2)(inputs)\n",
        "# existing_state = lstm_layer.states\n",
        "# n = tf.keras.layers.LSTM(units, input_shape=(None, input_dim), dropout=0.2, return_sequences=True)\n",
        "y = tf.keras.layers.BatchNormalization()(x)\n",
        "# z1 = tf.keras.layers.Dense(1024)(y)\n",
        "# z2 = tf.keras.layers.Dense(512)(z1)\n",
        "z3 = tf.keras.layers.Dense(output_size)(y)\n",
        "\n",
        "\n",
        "model = tf.keras.Model(inputs, z3)"
      ]
    },
    {
      "cell_type": "code",
      "execution_count": 10,
      "metadata": {
        "colab": {
          "base_uri": "https://localhost:8080/"
        },
        "id": "eP6GyJE66Jl2",
        "outputId": "71990dfc-dafd-459f-a85d-905eb9703c43"
      },
      "outputs": [
        {
          "name": "stdout",
          "output_type": "stream",
          "text": [
            "Epoch 1/20\n",
            "89/89 [==============================] - 12s 98ms/step - loss: 2.1760 - accuracy: 0.2802 - val_loss: 1.9003 - val_accuracy: 0.3925\n",
            "Epoch 2/20\n",
            "89/89 [==============================] - 1s 6ms/step - loss: 1.5755 - accuracy: 0.4453 - val_loss: 1.4384 - val_accuracy: 0.5458\n",
            "Epoch 3/20\n",
            "89/89 [==============================] - 1s 6ms/step - loss: 1.2997 - accuracy: 0.5317 - val_loss: 1.1052 - val_accuracy: 0.6415\n",
            "Epoch 4/20\n",
            "89/89 [==============================] - 1s 6ms/step - loss: 1.1457 - accuracy: 0.5862 - val_loss: 0.9442 - val_accuracy: 0.6840\n",
            "Epoch 5/20\n",
            "89/89 [==============================] - 1s 6ms/step - loss: 1.0182 - accuracy: 0.6453 - val_loss: 0.8484 - val_accuracy: 0.7184\n",
            "Epoch 6/20\n",
            "89/89 [==============================] - 1s 6ms/step - loss: 0.9430 - accuracy: 0.6690 - val_loss: 0.7474 - val_accuracy: 0.7415\n",
            "Epoch 7/20\n",
            "89/89 [==============================] - 1s 6ms/step - loss: 0.8732 - accuracy: 0.6949 - val_loss: 0.6670 - val_accuracy: 0.7679\n",
            "Epoch 8/20\n",
            "89/89 [==============================] - 1s 6ms/step - loss: 0.8157 - accuracy: 0.7188 - val_loss: 0.6311 - val_accuracy: 0.7821\n",
            "Epoch 9/20\n",
            "89/89 [==============================] - 1s 6ms/step - loss: 0.7528 - accuracy: 0.7480 - val_loss: 0.5789 - val_accuracy: 0.8033\n",
            "Epoch 10/20\n",
            "89/89 [==============================] - 1s 6ms/step - loss: 0.7086 - accuracy: 0.7532 - val_loss: 0.5392 - val_accuracy: 0.8250\n",
            "Epoch 11/20\n",
            "89/89 [==============================] - 1s 6ms/step - loss: 0.6533 - accuracy: 0.7757 - val_loss: 0.5033 - val_accuracy: 0.8349\n",
            "Epoch 12/20\n",
            "89/89 [==============================] - 1s 6ms/step - loss: 0.6381 - accuracy: 0.7847 - val_loss: 0.4694 - val_accuracy: 0.8443\n",
            "Epoch 13/20\n",
            "89/89 [==============================] - 1s 6ms/step - loss: 0.6074 - accuracy: 0.7897 - val_loss: 0.4575 - val_accuracy: 0.8552\n",
            "Epoch 14/20\n",
            "89/89 [==============================] - 1s 6ms/step - loss: 0.5702 - accuracy: 0.8048 - val_loss: 0.4287 - val_accuracy: 0.8604\n",
            "Epoch 15/20\n",
            "89/89 [==============================] - 1s 6ms/step - loss: 0.5551 - accuracy: 0.8113 - val_loss: 0.4250 - val_accuracy: 0.8627\n",
            "Epoch 16/20\n",
            "89/89 [==============================] - 1s 6ms/step - loss: 0.5339 - accuracy: 0.8195 - val_loss: 0.4056 - val_accuracy: 0.8698\n",
            "Epoch 17/20\n",
            "89/89 [==============================] - 1s 6ms/step - loss: 0.5157 - accuracy: 0.8212 - val_loss: 0.3763 - val_accuracy: 0.8788\n",
            "Epoch 18/20\n",
            "89/89 [==============================] - 1s 6ms/step - loss: 0.4922 - accuracy: 0.8311 - val_loss: 0.3675 - val_accuracy: 0.8835\n",
            "Epoch 19/20\n",
            "89/89 [==============================] - 1s 6ms/step - loss: 0.4770 - accuracy: 0.8388 - val_loss: 0.3476 - val_accuracy: 0.8896\n",
            "Epoch 20/20\n",
            "89/89 [==============================] - 1s 6ms/step - loss: 0.4776 - accuracy: 0.8351 - val_loss: 0.3355 - val_accuracy: 0.8858\n",
            "Model: \"model\"\n",
            "_________________________________________________________________\n",
            " Layer (type)                Output Shape              Param #   \n",
            "=================================================================\n",
            " input_1 (InputLayer)        [(None, None, 28)]        0         \n",
            "                                                                 \n",
            " lstm (LSTM)                 (None, 64)                23808     \n",
            "                                                                 \n",
            " batch_normalization (BatchN  (None, 64)               256       \n",
            " ormalization)                                                   \n",
            "                                                                 \n",
            " dense (Dense)               (None, 11)                715       \n",
            "                                                                 \n",
            "=================================================================\n",
            "Total params: 24,779\n",
            "Trainable params: 24,651\n",
            "Non-trainable params: 128\n",
            "_________________________________________________________________\n"
          ]
        },
        {
          "name": "stderr",
          "output_type": "stream",
          "text": [
            "WARNING:absl:Found untraced functions such as lstm_cell_layer_call_fn, lstm_cell_layer_call_and_return_conditional_losses while saving (showing 2 of 2). These functions will not be directly callable after loading.\n",
            "WARNING:absl:<keras.layers.recurrent.LSTMCell object at 0x7fd147b004d0> has the same name 'LSTMCell' as a built-in Keras object. Consider renaming <class 'keras.layers.recurrent.LSTMCell'> to avoid naming conflicts when loading with `tf.keras.models.load_model`. If renaming is not possible, pass the object in the `custom_objects` parameter of the load function.\n"
          ]
        }
      ],
      "source": [
        "# # model_lstm = tf.keras.Sequential()\n",
        "# # model_lstm.add(tf.keras.layers.LSTM(units=125, activation=\"tanh\", return_sequences=True))\n",
        "# # model_lstm.add(tf.keras.layers.Dense(units=1))\n",
        "# model = keras.Sequential()\n",
        "# model.add(layers.Embedding(input_dim=1000, output_dim=64))\n",
        "\n",
        "# # The output of GRU will be a 3D tensor of shape (batch_size, timesteps, 256)\n",
        "# model.add(layers.GRU(256, return_sequences=True))\n",
        "\n",
        "# # The output of SimpleRNN will be a 2D tensor of shape (batch_size, 128)\n",
        "# model.add(layers.SimpleRNN(128))\n",
        "\n",
        "# model.add(layers.Dense(10))\n",
        "\n",
        "# model = build_model(allow_cudnn_kernel=True)\n",
        "\n",
        "model.compile(\n",
        "    loss= tf.keras.losses.SparseCategoricalCrossentropy(from_logits=True),\n",
        "    optimizer=\"adam\",\n",
        "    metrics=[\"accuracy\"],\n",
        ")\n",
        "\n",
        "\n",
        "model.fit(\n",
        "    dataset_path, validation_data=dataset_path_val, batch_size=batch_size, epochs=20\n",
        ")\n",
        "\n",
        "model.summary()\n",
        "\n",
        "saving_path = pathlib.Path('/content/drive/MyDrive/RNNTest/RNNSavedModels/')\n",
        "\n",
        "tf.keras.models.save_model(model,                                     \n",
        "                           saving_path,\n",
        "                           overwrite=True,\n",
        "                           save_format='tf'\n",
        "                           )\n",
        "\n",
        "# model_lstm.fit(dataset_path, epochs=50, batch_size=32)"
      ]
    },
    {
      "cell_type": "code",
      "execution_count": 35,
      "metadata": {
        "colab": {
          "base_uri": "https://localhost:8080/",
          "height": 726
        },
        "id": "JXsQgpSd1Kb1",
        "outputId": "aae40b8c-c888-475e-e376-578a169caeba"
      },
      "outputs": [
        {
          "name": "stdout",
          "output_type": "stream",
          "text": [
            "Found 1 files belonging to 2 classes.\n",
            "len =  7\n",
            "2\n"
          ]
        },
        {
          "data": {
            "image/png": "[encoded data removed]",
            "text/plain": [
              "<Figure size 432x288 with 1 Axes>"
            ]
          },
          "metadata": {
            "needs_background": "light"
          },
          "output_type": "display_data"
        },
        {
          "name": "stdout",
          "output_type": "stream",
          "text": [
            "2\n"
          ]
        },
        {
          "data": {
            "image/png": "[encoded data removed]",
            "text/plain": [
              "<Figure size 432x288 with 1 Axes>"
            ]
          },
          "metadata": {
            "needs_background": "light"
          },
          "output_type": "display_data"
        },
        {
          "name": "stdout",
          "output_type": "stream",
          "text": [
            "2\n"
          ]
        },
        {
          "data": {
            "image/png": "[encoded data removed]",
            "text/plain": [
              "<Figure size 432x288 with 1 Axes>"
            ]
          },
          "metadata": {
            "needs_background": "light"
          },
          "output_type": "display_data"
        },
        {
          "name": "stdout",
          "output_type": "stream",
          "text": [
            "2\n"
          ]
        },
        {
          "data": {
            "image/png": "[encoded data removed]",
            "text/plain": [
              "<Figure size 432x288 with 1 Axes>"
            ]
          },
          "metadata": {
            "needs_background": "light"
          },
          "output_type": "display_data"
        },
        {
          "name": "stdout",
          "output_type": "stream",
          "text": [
            "2\n"
          ]
        },
        {
          "data": {
            "image/png": "[encoded data removed]",
            "text/plain": [
              "<Figure size 432x288 with 1 Axes>"
            ]
          },
          "metadata": {
            "needs_background": "light"
          },
          "output_type": "display_data"
        },
        {
          "name": "stdout",
          "output_type": "stream",
          "text": [
            "2\n"
          ]
        },
        {
          "data": {
            "image/png": "[encoded data removed]",
            "text/plain": [
              "<Figure size 432x288 with 1 Axes>"
            ]
          },
          "metadata": {
            "needs_background": "light"
          },
          "output_type": "display_data"
        },
        {
          "name": "stdout",
          "output_type": "stream",
          "text": [
            "2\n"
          ]
        },
        {
          "data": {
            "image/png": "[encoded data removed]",
            "text/plain": [
              "<Figure size 432x288 with 1 Axes>"
            ]
          },
          "metadata": {
            "needs_background": "light"
          },
          "output_type": "display_data"
        }
      ],
      "source": [
        "samp_path = pathlib.Path('/content/drive/MyDrive/imageai/LPDS/LP-detected-objects')\n",
        "\n",
        "sampl_path = tf.keras.utils.image_dataset_from_directory(      \n",
        "    samp_path,\n",
        "    labels= 'inferred',\n",
        "    seed= 1,\n",
        "    batch_size=1,\n",
        "    image_size=(input_dim, input_dim),\n",
        "    color_mode=\"grayscale\",\n",
        "    shuffle=False)\n",
        "\n",
        "loading_path = pathlib.Path('/content/drive/MyDrive/RNNTest/RNNSavedModels/')\n",
        "loaded_model = tf.keras.models.load_model(loading_path, compile=True)   \n",
        "\n",
        "loaded_model.compile(                                                   \n",
        "    optimizer='adam',\n",
        "    loss=tf.losses.SparseCategoricalCrossentropy(),\n",
        "    metrics=['accuracy'])\n",
        "\n",
        "sample_list = []                                                      \n",
        "for sample,label in sampl_path.take(1):\n",
        "    #sample = np.array(sample)\n",
        "    sample = tf.image.rot90(sample, k=1)\n",
        "    sample_list.append(sample)\n",
        "    continue\n",
        "\n",
        "sample_list = np.array(sample_list)\n",
        "sample_list = sample_list[0].reshape(7, 4, 28)                # not sure what     \n",
        "print(\"len = \", len(sample_list))\n",
        "for sample in sample_list:                      \n",
        "    predictions = loaded_model.predict(tf.expand_dims(sample, 0))\n",
        "    pred = np.argmax(predictions, axis=1)\n",
        "    print(pred[0])\n",
        "    plt.imshow(sample)\n",
        "    plt.show()"
      ]
    },
    {
      "cell_type": "code",
      "execution_count": null,
      "metadata": {
        "id": "FZZaXt8k6J9T"
      },
      "outputs": [],
      "source": [
        "# with tf.device(\"CPU:0\"):\n",
        "#     cpu_model = build_model(allow_cudnn_kernel=True)\n",
        "#     cpu_model.set_weights(model.get_weights())\n",
        "#     sample =  np.array(sample)\n",
        "#     result = tf.argmax(cpu_model.predict(tf.expand_dims(sample, 0)), axis=1)\n",
        "#     print(\n",
        "#         \"Predicted result is: %s, target result is:\" % (result.numpy())\n",
        "#     )\n",
        "#     plt.imshow(sample, cmap=plt.get_cmap(\"gray\"))"
      ]
    }
  ],
  "metadata": {
    "accelerator": "GPU",
    "colab": {
      "name": "LPR.ipynb",
      "provenance": []
    },
    "gpuClass": "standard",
    "kernelspec": {
      "display_name": "Python 3.10.4 64-bit",
      "language": "python",
      "name": "python3"
    },
    "language_info": {
      "name": "python",
      "version": "3.10.4"
    },
    "orig_nbformat": 4,
    "vscode": {
      "interpreter": {
        "hash": "916dbcbb3f70747c44a77c7bcd40155683ae19c65e1c03b4aa3499c5328201f1"
      }
    }
  },
  "nbformat": 4,
  "nbformat_minor": 0
}
